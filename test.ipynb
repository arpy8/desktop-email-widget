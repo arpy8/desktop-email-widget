{
 "cells": [
  {
   "cell_type": "code",
   "execution_count": null,
   "id": "982748a1",
   "metadata": {},
   "outputs": [
    {
     "data": {
      "text/plain": [
       "False"
      ]
     },
     "execution_count": 11,
     "metadata": {},
     "output_type": "execute_result"
    }
   ],
   "source": [
    "import psutil\n",
    "\n",
    "def is_charger_plugged_in():\n",
    "    battery = psutil.sensors_battery()\n",
    "    if battery is None:\n",
    "        return None\n",
    "    \n",
    "    return battery.power_plugged\n",
    "\n",
    "is_charger_plugged_in()"
   ]
  },
  {
   "cell_type": "code",
   "execution_count": 186,
   "id": "a9720f68",
   "metadata": {},
   "outputs": [
    {
     "name": "stdout",
     "output_type": "stream",
     "text": [
      "System booted on: 2025-06-20 05:46:32.906065\n",
      "System uptime: 13:06:46.319350\n"
     ]
    }
   ],
   "source": [
    "import psutil\n",
    "import datetime\n",
    "\n",
    "boot_time_seconds = psutil.boot_time()\n",
    "boot_datetime = datetime.datetime.fromtimestamp(boot_time_seconds)\n",
    "current_datetime = datetime.datetime.now()\n",
    "\n",
    "uptime = current_datetime - boot_datetime\n",
    "\n",
    "print(f\"System booted on: {boot_datetime}\")\n",
    "print(f\"System uptime: {uptime}\")"
   ]
  }
 ],
 "metadata": {
  "kernelspec": {
   "display_name": "desktop-email-widget",
   "language": "python",
   "name": "python3"
  },
  "language_info": {
   "codemirror_mode": {
    "name": "ipython",
    "version": 3
   },
   "file_extension": ".py",
   "mimetype": "text/x-python",
   "name": "python",
   "nbconvert_exporter": "python",
   "pygments_lexer": "ipython3",
   "version": "3.12.6"
  }
 },
 "nbformat": 4,
 "nbformat_minor": 5
}
